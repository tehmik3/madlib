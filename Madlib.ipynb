{
  "nbformat": 4,
  "nbformat_minor": 0,
  "metadata": {
    "colab": {
      "private_outputs": true,
      "provenance": [],
      "authorship_tag": "ABX9TyP8RBzmNGoA1Sxlu6GDUzXx",
      "include_colab_link": true
    },
    "kernelspec": {
      "name": "python3",
      "display_name": "Python 3"
    },
    "language_info": {
      "name": "python"
    }
  },
  "cells": [
    {
      "cell_type": "markdown",
      "metadata": {
        "id": "view-in-github",
        "colab_type": "text"
      },
      "source": [
        "<a href=\"https://colab.research.google.com/github/tehmik3/madlib/blob/main/Madlib.ipynb\" target=\"_parent\"><img src=\"https://colab.research.google.com/assets/colab-badge.svg\" alt=\"Open In Colab\"/></a>"
      ]
    },
    {
      "cell_type": "markdown",
      "source": [
        "# **Madlib**"
      ],
      "metadata": {
        "id": "NcuNLDPNrS3E"
      }
    },
    {
      "cell_type": "code",
      "source": [
        "noun = input(\"noun: \")\n",
        "adj = input(\"adj: \")\n",
        "noun1 = input(\"noun1: \")\n",
        "noun2 = input(\"noun2: \")\n",
        "adj1 = input(\"adj1: \")\n",
        "adj2 = input(\"adj2: \")\n",
        "adj3 = input(\"adj3: \")\n",
        "noun3 = input(\"noun3: \")\n",
        "noun4 = input(\"noun4: \")\n",
        "adj4 = input(\"adj4: \")\n",
        "noun5 = input(\"noun5: \")\n",
        "noun6 = input(\"noun6: \")\n",
        "adj5 = input(\"adj5: \")\n",
        "noun7 = input(\"noun7: \")\n",
        "adj6 = input(\"adj6: \")\n",
        "noun8  = input(\"noun8: \")\n",
        "\n",
        "\n",
        "\n",
        "madlib = f\"{noun} is home to {adj} {noun1} like {noun2}, where the sea {adj1} \\ncreates a {adj2} escape, and the {adj3} streets of {noun3}, filled with \\nhistory and {noun4}. The city offers a {adj4} {noun5} of modernity and \\n{noun6}, from the {adj5} {noun7} to the {adj6} markets of \\n{noun8}.\"\n",
        "\n",
        "\n",
        "print(madlib)\n"
      ],
      "metadata": {
        "id": "yWXB9fw9hsgs"
      },
      "execution_count": null,
      "outputs": []
    }
  ]
}